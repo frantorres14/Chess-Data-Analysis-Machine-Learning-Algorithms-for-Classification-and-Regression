{
 "cells": [
  {
   "cell_type": "markdown",
   "metadata": {},
   "source": [
    "# **Preprocesamiento de datos**"
   ]
  },
  {
   "cell_type": "markdown",
   "metadata": {},
   "source": [
    "## Carga de datos y librerías"
   ]
  },
  {
   "cell_type": "code",
   "execution_count": 1,
   "metadata": {},
   "outputs": [],
   "source": [
    "import numpy as np\n",
    "import pandas as pd\n",
    "import matplotlib.pyplot as plt\n",
    "import seaborn as sns\n"
   ]
  },
  {
   "cell_type": "code",
   "execution_count": 2,
   "metadata": {},
   "outputs": [],
   "source": [
    "# Cargar datos\n",
    "path = \"C:/Users/franc/Documents/Lic. IA/Semestre 4/Machine learning\" # Cambiar por la ruta de los datos\n",
    "df = pd.read_csv(path + '/data/chess_games.csv')"
   ]
  },
  {
   "cell_type": "markdown",
   "metadata": {},
   "source": [
    "## Exploración de datos"
   ]
  },
  {
   "cell_type": "code",
   "execution_count": 3,
   "metadata": {},
   "outputs": [
    {
     "data": {
      "text/html": [
       "<div>\n",
       "<style scoped>\n",
       "    .dataframe tbody tr th:only-of-type {\n",
       "        vertical-align: middle;\n",
       "    }\n",
       "\n",
       "    .dataframe tbody tr th {\n",
       "        vertical-align: top;\n",
       "    }\n",
       "\n",
       "    .dataframe thead th {\n",
       "        text-align: right;\n",
       "    }\n",
       "</style>\n",
       "<table border=\"1\" class=\"dataframe\">\n",
       "  <thead>\n",
       "    <tr style=\"text-align: right;\">\n",
       "      <th></th>\n",
       "      <th>Event</th>\n",
       "      <th>White</th>\n",
       "      <th>Black</th>\n",
       "      <th>Result</th>\n",
       "      <th>UTCDate</th>\n",
       "      <th>UTCTime</th>\n",
       "      <th>WhiteElo</th>\n",
       "      <th>BlackElo</th>\n",
       "      <th>WhiteRatingDiff</th>\n",
       "      <th>BlackRatingDiff</th>\n",
       "      <th>ECO</th>\n",
       "      <th>Opening</th>\n",
       "      <th>TimeControl</th>\n",
       "      <th>Termination</th>\n",
       "      <th>AN</th>\n",
       "    </tr>\n",
       "  </thead>\n",
       "  <tbody>\n",
       "    <tr>\n",
       "      <th>0</th>\n",
       "      <td>Classical</td>\n",
       "      <td>eisaaaa</td>\n",
       "      <td>HAMID449</td>\n",
       "      <td>1-0</td>\n",
       "      <td>2016.06.30</td>\n",
       "      <td>22:00:01</td>\n",
       "      <td>1901</td>\n",
       "      <td>1896</td>\n",
       "      <td>11.0</td>\n",
       "      <td>-11.0</td>\n",
       "      <td>D10</td>\n",
       "      <td>Slav Defense</td>\n",
       "      <td>300+5</td>\n",
       "      <td>Time forfeit</td>\n",
       "      <td>1. d4 d5 2. c4 c6 3. e3 a6 4. Nf3 e5 5. cxd5 e...</td>\n",
       "    </tr>\n",
       "    <tr>\n",
       "      <th>1</th>\n",
       "      <td>Blitz</td>\n",
       "      <td>go4jas</td>\n",
       "      <td>Sergei1973</td>\n",
       "      <td>0-1</td>\n",
       "      <td>2016.06.30</td>\n",
       "      <td>22:00:01</td>\n",
       "      <td>1641</td>\n",
       "      <td>1627</td>\n",
       "      <td>-11.0</td>\n",
       "      <td>12.0</td>\n",
       "      <td>C20</td>\n",
       "      <td>King's Pawn Opening: 2.b3</td>\n",
       "      <td>300+0</td>\n",
       "      <td>Normal</td>\n",
       "      <td>1. e4 e5 2. b3 Nf6 3. Bb2 Nc6 4. Nf3 d6 5. d3 ...</td>\n",
       "    </tr>\n",
       "    <tr>\n",
       "      <th>2</th>\n",
       "      <td>Blitz tournament</td>\n",
       "      <td>Evangelistaizac</td>\n",
       "      <td>kafune</td>\n",
       "      <td>1-0</td>\n",
       "      <td>2016.06.30</td>\n",
       "      <td>22:00:02</td>\n",
       "      <td>1647</td>\n",
       "      <td>1688</td>\n",
       "      <td>13.0</td>\n",
       "      <td>-13.0</td>\n",
       "      <td>B01</td>\n",
       "      <td>Scandinavian Defense: Mieses-Kotroc Variation</td>\n",
       "      <td>180+0</td>\n",
       "      <td>Time forfeit</td>\n",
       "      <td>1. e4 d5 2. exd5 Qxd5 3. Nf3 Bg4 4. Be2 Nf6 5....</td>\n",
       "    </tr>\n",
       "    <tr>\n",
       "      <th>3</th>\n",
       "      <td>Correspondence</td>\n",
       "      <td>Jvayne</td>\n",
       "      <td>Wsjvayne</td>\n",
       "      <td>1-0</td>\n",
       "      <td>2016.06.30</td>\n",
       "      <td>22:00:02</td>\n",
       "      <td>1706</td>\n",
       "      <td>1317</td>\n",
       "      <td>27.0</td>\n",
       "      <td>-25.0</td>\n",
       "      <td>A00</td>\n",
       "      <td>Van't Kruijs Opening</td>\n",
       "      <td>-</td>\n",
       "      <td>Normal</td>\n",
       "      <td>1. e3 Nf6 2. Bc4 d6 3. e4 e6 4. Nf3 Nxe4 5. Nd...</td>\n",
       "    </tr>\n",
       "    <tr>\n",
       "      <th>4</th>\n",
       "      <td>Blitz tournament</td>\n",
       "      <td>kyoday</td>\n",
       "      <td>BrettDale</td>\n",
       "      <td>0-1</td>\n",
       "      <td>2016.06.30</td>\n",
       "      <td>22:00:02</td>\n",
       "      <td>1945</td>\n",
       "      <td>1900</td>\n",
       "      <td>-14.0</td>\n",
       "      <td>13.0</td>\n",
       "      <td>B90</td>\n",
       "      <td>Sicilian Defense: Najdorf, Lipnitsky Attack</td>\n",
       "      <td>180+0</td>\n",
       "      <td>Time forfeit</td>\n",
       "      <td>1. e4 c5 2. Nf3 d6 3. d4 cxd4 4. Nxd4 Nf6 5. N...</td>\n",
       "    </tr>\n",
       "  </tbody>\n",
       "</table>\n",
       "</div>"
      ],
      "text/plain": [
       "                Event            White       Black Result     UTCDate  \\\n",
       "0          Classical           eisaaaa    HAMID449    1-0  2016.06.30   \n",
       "1              Blitz            go4jas  Sergei1973    0-1  2016.06.30   \n",
       "2   Blitz tournament   Evangelistaizac      kafune    1-0  2016.06.30   \n",
       "3     Correspondence            Jvayne    Wsjvayne    1-0  2016.06.30   \n",
       "4   Blitz tournament            kyoday   BrettDale    0-1  2016.06.30   \n",
       "\n",
       "    UTCTime  WhiteElo  BlackElo  WhiteRatingDiff  BlackRatingDiff  ECO  \\\n",
       "0  22:00:01      1901      1896             11.0            -11.0  D10   \n",
       "1  22:00:01      1641      1627            -11.0             12.0  C20   \n",
       "2  22:00:02      1647      1688             13.0            -13.0  B01   \n",
       "3  22:00:02      1706      1317             27.0            -25.0  A00   \n",
       "4  22:00:02      1945      1900            -14.0             13.0  B90   \n",
       "\n",
       "                                         Opening TimeControl   Termination  \\\n",
       "0                                   Slav Defense       300+5  Time forfeit   \n",
       "1                      King's Pawn Opening: 2.b3       300+0        Normal   \n",
       "2  Scandinavian Defense: Mieses-Kotroc Variation       180+0  Time forfeit   \n",
       "3                           Van't Kruijs Opening           -        Normal   \n",
       "4    Sicilian Defense: Najdorf, Lipnitsky Attack       180+0  Time forfeit   \n",
       "\n",
       "                                                  AN  \n",
       "0  1. d4 d5 2. c4 c6 3. e3 a6 4. Nf3 e5 5. cxd5 e...  \n",
       "1  1. e4 e5 2. b3 Nf6 3. Bb2 Nc6 4. Nf3 d6 5. d3 ...  \n",
       "2  1. e4 d5 2. exd5 Qxd5 3. Nf3 Bg4 4. Be2 Nf6 5....  \n",
       "3  1. e3 Nf6 2. Bc4 d6 3. e4 e6 4. Nf3 Nxe4 5. Nd...  \n",
       "4  1. e4 c5 2. Nf3 d6 3. d4 cxd4 4. Nxd4 Nf6 5. N...  "
      ]
     },
     "execution_count": 3,
     "metadata": {},
     "output_type": "execute_result"
    }
   ],
   "source": [
    "df.head()"
   ]
  },
  {
   "cell_type": "code",
   "execution_count": 4,
   "metadata": {},
   "outputs": [
    {
     "name": "stdout",
     "output_type": "stream",
     "text": [
      "<class 'pandas.core.frame.DataFrame'>\n",
      "RangeIndex: 6256184 entries, 0 to 6256183\n",
      "Data columns (total 15 columns):\n",
      " #   Column           Dtype  \n",
      "---  ------           -----  \n",
      " 0   Event            object \n",
      " 1   White            object \n",
      " 2   Black            object \n",
      " 3   Result           object \n",
      " 4   UTCDate          object \n",
      " 5   UTCTime          object \n",
      " 6   WhiteElo         int64  \n",
      " 7   BlackElo         int64  \n",
      " 8   WhiteRatingDiff  float64\n",
      " 9   BlackRatingDiff  float64\n",
      " 10  ECO              object \n",
      " 11  Opening          object \n",
      " 12  TimeControl      object \n",
      " 13  Termination      object \n",
      " 14  AN               object \n",
      "dtypes: float64(2), int64(2), object(11)\n",
      "memory usage: 716.0+ MB\n"
     ]
    }
   ],
   "source": [
    "# Mostrar información del dataset\n",
    "df.info()"
   ]
  },
  {
   "cell_type": "code",
   "execution_count": 5,
   "metadata": {},
   "outputs": [
    {
     "name": "stdout",
     "output_type": "stream",
     "text": [
      "Valores únicos en Event: 14\n",
      "Valores únicos en White: 118945\n",
      "Valores únicos en Black: 115946\n",
      "Valores únicos en Result: 4\n",
      "Valores únicos en UTCDate: 32\n",
      "Valores únicos en UTCTime: 86400\n",
      "Valores únicos en WhiteElo: 2174\n",
      "Valores únicos en BlackElo: 2181\n",
      "Valores únicos en WhiteRatingDiff: 1178\n",
      "Valores únicos en BlackRatingDiff: 1164\n",
      "Valores únicos en ECO: 493\n",
      "Valores únicos en Opening: 2942\n",
      "Valores únicos en TimeControl: 841\n",
      "Valores únicos en Termination: 5\n",
      "Valores únicos en AN: 6188849\n"
     ]
    }
   ],
   "source": [
    "#Valores únicos por cada columna\n",
    "columnas = ['Event', 'White','Black', 'Result', 'UTCDate', 'UTCTime', 'WhiteElo', 'BlackElo', 'WhiteRatingDiff', 'BlackRatingDiff', 'ECO', 'Opening', 'TimeControl', 'Termination', 'AN']\n",
    "for columna in df.columns:\n",
    "    valu = len(df[columna].unique())\n",
    "    print(f\"Valores únicos en {columna}: {valu}\")"
   ]
  },
  {
   "cell_type": "markdown",
   "metadata": {},
   "source": [
    "# Limpieza de datos"
   ]
  },
  {
   "cell_type": "markdown",
   "metadata": {},
   "source": [
    "## Tratamiento de datos faltantes"
   ]
  },
  {
   "cell_type": "code",
   "execution_count": 6,
   "metadata": {},
   "outputs": [
    {
     "data": {
      "text/plain": [
       "Event                 0\n",
       "White                 0\n",
       "Black                 0\n",
       "Result                0\n",
       "UTCDate               0\n",
       "UTCTime               0\n",
       "WhiteElo              0\n",
       "BlackElo              0\n",
       "WhiteRatingDiff    4668\n",
       "BlackRatingDiff    4668\n",
       "ECO                   0\n",
       "Opening               0\n",
       "TimeControl           0\n",
       "Termination           0\n",
       "AN                    0\n",
       "dtype: int64"
      ]
     },
     "execution_count": 6,
     "metadata": {},
     "output_type": "execute_result"
    }
   ],
   "source": [
    "# datos faltantes\n",
    "df.isnull().sum()"
   ]
  },
  {
   "cell_type": "markdown",
   "metadata": {},
   "source": [
    "Al parecer las columnas WhiteRatingDiff y BlackRatingDiff tienen el mismo número de columnas con datos faltantes, así que probablemente sean en las mismas filas, así que comprobaremos esto."
   ]
  },
  {
   "cell_type": "code",
   "execution_count": 7,
   "metadata": {},
   "outputs": [
    {
     "data": {
      "text/plain": [
       "True"
      ]
     },
     "execution_count": 7,
     "metadata": {},
     "output_type": "execute_result"
    }
   ],
   "source": [
    "# comprobamos si las mismas filas tienen valores faltantes en las columnas BlackRatingDiff y WhiteRatingDiff\n",
    "df[df['BlackRatingDiff'].isnull()].equals(df[df['WhiteRatingDiff'].isnull()])"
   ]
  },
  {
   "cell_type": "markdown",
   "metadata": {},
   "source": [
    "Efectivamente, las columnas BlackRatingDiff y WhiteRatingDiff tienen valores faltantes en las mismas columnas. Al ser un dataset bastante grande, no afectará en nada el perder estos datos, por lo que serán eliminados"
   ]
  },
  {
   "cell_type": "code",
   "execution_count": 8,
   "metadata": {},
   "outputs": [
    {
     "data": {
      "text/plain": [
       "Event              0\n",
       "White              0\n",
       "Black              0\n",
       "Result             0\n",
       "UTCDate            0\n",
       "UTCTime            0\n",
       "WhiteElo           0\n",
       "BlackElo           0\n",
       "WhiteRatingDiff    0\n",
       "BlackRatingDiff    0\n",
       "ECO                0\n",
       "Opening            0\n",
       "TimeControl        0\n",
       "Termination        0\n",
       "AN                 0\n",
       "dtype: int64"
      ]
     },
     "execution_count": 8,
     "metadata": {},
     "output_type": "execute_result"
    }
   ],
   "source": [
    "#borrar columnas donde hay valores faltantes en BlackRatingDiff y WhiteRatingDiff\n",
    "df = df.dropna(subset=['BlackRatingDiff', 'WhiteRatingDiff'])\n",
    "df.isnull().sum()"
   ]
  },
  {
   "cell_type": "markdown",
   "metadata": {},
   "source": [
    "## Transformación de datos"
   ]
  },
  {
   "cell_type": "markdown",
   "metadata": {},
   "source": [
    "El tipo de dato de las columnas BlackRatingDiff y WhiteRatingDiff son de tipo float pero realmente podrían ser enteros ya que no tienen números decimales, por lo que transformarán en enteros."
   ]
  },
  {
   "cell_type": "code",
   "execution_count": 9,
   "metadata": {},
   "outputs": [
    {
     "name": "stdout",
     "output_type": "stream",
     "text": [
      "<class 'pandas.core.frame.DataFrame'>\n",
      "Index: 6251516 entries, 0 to 6256183\n",
      "Data columns (total 15 columns):\n",
      " #   Column           Dtype \n",
      "---  ------           ----- \n",
      " 0   Event            object\n",
      " 1   White            object\n",
      " 2   Black            object\n",
      " 3   Result           object\n",
      " 4   UTCDate          object\n",
      " 5   UTCTime          object\n",
      " 6   WhiteElo         int64 \n",
      " 7   BlackElo         int64 \n",
      " 8   WhiteRatingDiff  int64 \n",
      " 9   BlackRatingDiff  int64 \n",
      " 10  ECO              object\n",
      " 11  Opening          object\n",
      " 12  TimeControl      object\n",
      " 13  Termination      object\n",
      " 14  AN               object\n",
      "dtypes: int64(4), object(11)\n",
      "memory usage: 763.1+ MB\n"
     ]
    }
   ],
   "source": [
    "# Se transformamos las columnas BlackRatingDiff y WhiteRatingDiff a tipo int64\n",
    "df['BlackRatingDiff'] = df['BlackRatingDiff'].astype('int64')\n",
    "df['WhiteRatingDiff'] = df['WhiteRatingDiff'].astype('int64')\n",
    "df.info()"
   ]
  },
  {
   "cell_type": "code",
   "execution_count": 10,
   "metadata": {},
   "outputs": [
    {
     "name": "stdout",
     "output_type": "stream",
     "text": [
      "Result\n",
      "1-0        3111715\n",
      "0-1        2901035\n",
      "1/2-1/2     238763\n",
      "*                3\n",
      "Name: count, dtype: int64\n"
     ]
    }
   ],
   "source": [
    "#Valores únicos de la columna \"Result\"\n",
    "print(df[\"Result\"].value_counts())"
   ]
  },
  {
   "cell_type": "code",
   "execution_count": 11,
   "metadata": {},
   "outputs": [
    {
     "data": {
      "text/html": [
       "<div>\n",
       "<style scoped>\n",
       "    .dataframe tbody tr th:only-of-type {\n",
       "        vertical-align: middle;\n",
       "    }\n",
       "\n",
       "    .dataframe tbody tr th {\n",
       "        vertical-align: top;\n",
       "    }\n",
       "\n",
       "    .dataframe thead th {\n",
       "        text-align: right;\n",
       "    }\n",
       "</style>\n",
       "<table border=\"1\" class=\"dataframe\">\n",
       "  <thead>\n",
       "    <tr style=\"text-align: right;\">\n",
       "      <th></th>\n",
       "      <th>Event</th>\n",
       "      <th>White</th>\n",
       "      <th>Black</th>\n",
       "      <th>Result</th>\n",
       "      <th>UTCDate</th>\n",
       "      <th>UTCTime</th>\n",
       "      <th>WhiteElo</th>\n",
       "      <th>BlackElo</th>\n",
       "      <th>WhiteRatingDiff</th>\n",
       "      <th>BlackRatingDiff</th>\n",
       "      <th>ECO</th>\n",
       "      <th>Opening</th>\n",
       "      <th>TimeControl</th>\n",
       "      <th>Termination</th>\n",
       "      <th>AN</th>\n",
       "    </tr>\n",
       "  </thead>\n",
       "  <tbody>\n",
       "    <tr>\n",
       "      <th>850980</th>\n",
       "      <td>Blitz tournament</td>\n",
       "      <td>gvad202020</td>\n",
       "      <td>EireGoDeo</td>\n",
       "      <td>*</td>\n",
       "      <td>2016.07.05</td>\n",
       "      <td>06:32:15</td>\n",
       "      <td>1956</td>\n",
       "      <td>1800</td>\n",
       "      <td>-12</td>\n",
       "      <td>12</td>\n",
       "      <td>B54</td>\n",
       "      <td>Sicilian Defense #2</td>\n",
       "      <td>300+0</td>\n",
       "      <td>Abandoned</td>\n",
       "      <td>1. e4 c5 2. Nf3 d6 3. d4 cxd4 4. Nxd4 e5 5. Nb...</td>\n",
       "    </tr>\n",
       "    <tr>\n",
       "      <th>2413351</th>\n",
       "      <td>Bullet</td>\n",
       "      <td>LDago1</td>\n",
       "      <td>tvarhand</td>\n",
       "      <td>*</td>\n",
       "      <td>2016.07.13</td>\n",
       "      <td>00:14:57</td>\n",
       "      <td>2181</td>\n",
       "      <td>2143</td>\n",
       "      <td>-12</td>\n",
       "      <td>12</td>\n",
       "      <td>A41</td>\n",
       "      <td>Queen's Pawn</td>\n",
       "      <td>120+0</td>\n",
       "      <td>Abandoned</td>\n",
       "      <td>1. d4 d6 2. Nf3 g6 3. c3 Bg7 4. Bf4 Nc6 5. d5 ...</td>\n",
       "    </tr>\n",
       "    <tr>\n",
       "      <th>4876419</th>\n",
       "      <td>Bullet</td>\n",
       "      <td>karalyte</td>\n",
       "      <td>troterocom</td>\n",
       "      <td>*</td>\n",
       "      <td>2016.07.25</td>\n",
       "      <td>09:33:16</td>\n",
       "      <td>1586</td>\n",
       "      <td>1774</td>\n",
       "      <td>-6</td>\n",
       "      <td>7</td>\n",
       "      <td>A00</td>\n",
       "      <td>Creepy Crawly Formation: Classical Defense</td>\n",
       "      <td>60+0</td>\n",
       "      <td>Abandoned</td>\n",
       "      <td>1. a3 d5 2. h3 e5 3. Nf3 e4 4. Nd4 c5 5. Nb3 N...</td>\n",
       "    </tr>\n",
       "  </tbody>\n",
       "</table>\n",
       "</div>"
      ],
      "text/plain": [
       "                      Event       White       Black Result     UTCDate  \\\n",
       "850980    Blitz tournament   gvad202020   EireGoDeo      *  2016.07.05   \n",
       "2413351             Bullet       LDago1    tvarhand      *  2016.07.13   \n",
       "4876419             Bullet     karalyte  troterocom      *  2016.07.25   \n",
       "\n",
       "          UTCTime  WhiteElo  BlackElo  WhiteRatingDiff  BlackRatingDiff  ECO  \\\n",
       "850980   06:32:15      1956      1800              -12               12  B54   \n",
       "2413351  00:14:57      2181      2143              -12               12  A41   \n",
       "4876419  09:33:16      1586      1774               -6                7  A00   \n",
       "\n",
       "                                            Opening TimeControl Termination  \\\n",
       "850980                          Sicilian Defense #2       300+0   Abandoned   \n",
       "2413351                                Queen's Pawn       120+0   Abandoned   \n",
       "4876419  Creepy Crawly Formation: Classical Defense        60+0   Abandoned   \n",
       "\n",
       "                                                        AN  \n",
       "850980   1. e4 c5 2. Nf3 d6 3. d4 cxd4 4. Nxd4 e5 5. Nb...  \n",
       "2413351  1. d4 d6 2. Nf3 g6 3. c3 Bg7 4. Bf4 Nc6 5. d5 ...  \n",
       "4876419  1. a3 d5 2. h3 e5 3. Nf3 e4 4. Nd4 c5 5. Nb3 N...  "
      ]
     },
     "execution_count": 11,
     "metadata": {},
     "output_type": "execute_result"
    }
   ],
   "source": [
    "df[df[\"Result\"] == \"*\"]"
   ]
  },
  {
   "cell_type": "markdown",
   "metadata": {},
   "source": [
    "Existen 3 valores con otro formato, probablemente por algún error al guardar el dato. Estos datos tienen en común que en BlackRatingDiff el valor es positivo mientras que en WhiteRatingDiff es negativo, y la partida terminó por abandono. Con los puntajes de WhiteRatingDiff y BlackRatingDiff se asume que ganaron las negras por lo que en Result, el valor debería de ser 0-1, así que se sustituirá este valor en estos registros."
   ]
  },
  {
   "cell_type": "code",
   "execution_count": 12,
   "metadata": {},
   "outputs": [
    {
     "data": {
      "text/plain": [
       "Result\n",
       "1-0        3111715\n",
       "0-1        2901038\n",
       "1/2-1/2     238763\n",
       "Name: count, dtype: int64"
      ]
     },
     "execution_count": 12,
     "metadata": {},
     "output_type": "execute_result"
    }
   ],
   "source": [
    "#Cambiar los valores \"*\" por \"0-1\"\n",
    "df.loc[df[\"Result\"] == \"*\", \"Result\"] = \"0-1\"\n",
    "df[\"Result\"].value_counts()"
   ]
  },
  {
   "cell_type": "code",
   "execution_count": 13,
   "metadata": {},
   "outputs": [
    {
     "data": {
      "text/plain": [
       "Event\n",
       " Blitz                    2338356\n",
       " Classical                1509062\n",
       " Bullet                   1197648\n",
       " Bullet tournament         546616\n",
       " Blitz tournament          472068\n",
       " Classical tournament      165505\n",
       " Correspondence             22210\n",
       "Blitz                          20\n",
       "Classical                      13\n",
       "Bullet                          8\n",
       "Blitz tournament                4\n",
       "Bullet tournament               3\n",
       "Classical tournament            2\n",
       "Correspondence                  1\n",
       "Name: count, dtype: int64"
      ]
     },
     "execution_count": 13,
     "metadata": {},
     "output_type": "execute_result"
    }
   ],
   "source": [
    "# Valores únicos de la columna \"Event\"\n",
    "df[\"Event\"].value_counts()"
   ]
  },
  {
   "cell_type": "code",
   "execution_count": 14,
   "metadata": {},
   "outputs": [
    {
     "data": {
      "text/plain": [
       "array([' Classical ', ' Blitz ', ' Blitz tournament ', ' Correspondence ',\n",
       "       ' Classical tournament ', ' Bullet tournament ', ' Bullet ',\n",
       "       'Blitz tournament ', 'Bullet ', 'Classical ', 'Blitz ',\n",
       "       'Bullet tournament ', 'Classical tournament ', 'Correspondence '],\n",
       "      dtype=object)"
      ]
     },
     "execution_count": 14,
     "metadata": {},
     "output_type": "execute_result"
    }
   ],
   "source": [
    "df[\"Event\"].unique()"
   ]
  },
  {
   "cell_type": "markdown",
   "metadata": {},
   "source": [
    "Cada valor de Event se repite dos veces, una con espacios adelante y atras, y otras sin esos espacios. Se quitará dicho espacio de los valores que lo tengan."
   ]
  },
  {
   "cell_type": "code",
   "execution_count": 15,
   "metadata": {},
   "outputs": [
    {
     "data": {
      "text/plain": [
       "array(['Classical', 'Blitz', 'Blitz tournament', 'Correspondence',\n",
       "       'Classical tournament', 'Bullet tournament', 'Bullet'],\n",
       "      dtype=object)"
      ]
     },
     "execution_count": 15,
     "metadata": {},
     "output_type": "execute_result"
    }
   ],
   "source": [
    "# Eliminar espacios en blanco al inicio y al final de los valores de la columna \"Event\"\n",
    "values_event = list(df[\"Event\"].unique()) # Lista de valores únicos de la columna \"Event\"\n",
    "for value in values_event: # Se itera sobre la lista de valores únicos\n",
    "    df.loc[df[\"Event\"] == value, \"Event\"] = value.strip() # en cada indice donde el valor sea igual al valor de la lista se elimina los espacios en blanco al inicio y al final\n",
    "df[\"Event\"].unique()"
   ]
  },
  {
   "cell_type": "markdown",
   "metadata": {},
   "source": [
    "## Homogeneidad de datos"
   ]
  },
  {
   "cell_type": "code",
   "execution_count": 16,
   "metadata": {},
   "outputs": [
    {
     "data": {
      "text/html": [
       "<div>\n",
       "<style scoped>\n",
       "    .dataframe tbody tr th:only-of-type {\n",
       "        vertical-align: middle;\n",
       "    }\n",
       "\n",
       "    .dataframe tbody tr th {\n",
       "        vertical-align: top;\n",
       "    }\n",
       "\n",
       "    .dataframe thead th {\n",
       "        text-align: right;\n",
       "    }\n",
       "</style>\n",
       "<table border=\"1\" class=\"dataframe\">\n",
       "  <thead>\n",
       "    <tr style=\"text-align: right;\">\n",
       "      <th></th>\n",
       "      <th>Event</th>\n",
       "      <th>White</th>\n",
       "      <th>Black</th>\n",
       "      <th>Result</th>\n",
       "      <th>UTCDate</th>\n",
       "      <th>UTCTime</th>\n",
       "      <th>WhiteElo</th>\n",
       "      <th>BlackElo</th>\n",
       "      <th>WhiteRatingDiff</th>\n",
       "      <th>BlackRatingDiff</th>\n",
       "      <th>ECO</th>\n",
       "      <th>Opening</th>\n",
       "      <th>TimeControl</th>\n",
       "      <th>Termination</th>\n",
       "      <th>AN</th>\n",
       "    </tr>\n",
       "  </thead>\n",
       "  <tbody>\n",
       "  </tbody>\n",
       "</table>\n",
       "</div>"
      ],
      "text/plain": [
       "Empty DataFrame\n",
       "Columns: [Event, White, Black, Result, UTCDate, UTCTime, WhiteElo, BlackElo, WhiteRatingDiff, BlackRatingDiff, ECO, Opening, TimeControl, Termination, AN]\n",
       "Index: []"
      ]
     },
     "execution_count": 16,
     "metadata": {},
     "output_type": "execute_result"
    }
   ],
   "source": [
    "#Todos los valores de la columna \"UTCDate\" que tengan una longitud mayor a 10\n",
    "df[df[\"UTCDate\"].str.len() > 10]"
   ]
  },
  {
   "cell_type": "code",
   "execution_count": 17,
   "metadata": {},
   "outputs": [
    {
     "data": {
      "text/html": [
       "<div>\n",
       "<style scoped>\n",
       "    .dataframe tbody tr th:only-of-type {\n",
       "        vertical-align: middle;\n",
       "    }\n",
       "\n",
       "    .dataframe tbody tr th {\n",
       "        vertical-align: top;\n",
       "    }\n",
       "\n",
       "    .dataframe thead th {\n",
       "        text-align: right;\n",
       "    }\n",
       "</style>\n",
       "<table border=\"1\" class=\"dataframe\">\n",
       "  <thead>\n",
       "    <tr style=\"text-align: right;\">\n",
       "      <th></th>\n",
       "      <th>Event</th>\n",
       "      <th>White</th>\n",
       "      <th>Black</th>\n",
       "      <th>Result</th>\n",
       "      <th>UTCDate</th>\n",
       "      <th>UTCTime</th>\n",
       "      <th>WhiteElo</th>\n",
       "      <th>BlackElo</th>\n",
       "      <th>WhiteRatingDiff</th>\n",
       "      <th>BlackRatingDiff</th>\n",
       "      <th>ECO</th>\n",
       "      <th>Opening</th>\n",
       "      <th>TimeControl</th>\n",
       "      <th>Termination</th>\n",
       "      <th>AN</th>\n",
       "    </tr>\n",
       "  </thead>\n",
       "  <tbody>\n",
       "  </tbody>\n",
       "</table>\n",
       "</div>"
      ],
      "text/plain": [
       "Empty DataFrame\n",
       "Columns: [Event, White, Black, Result, UTCDate, UTCTime, WhiteElo, BlackElo, WhiteRatingDiff, BlackRatingDiff, ECO, Opening, TimeControl, Termination, AN]\n",
       "Index: []"
      ]
     },
     "execution_count": 17,
     "metadata": {},
     "output_type": "execute_result"
    }
   ],
   "source": [
    "#Todos los valores de la columna \"UTCTime\" que tengan una longitud mayor a 8\n",
    "df[df[\"UTCTime\"].str.len() > 8]"
   ]
  },
  {
   "cell_type": "markdown",
   "metadata": {},
   "source": [
    "Se corroboró que las valores de las columnas \"UTCDate\" y \"UTCTime\" tuvieran el mismo formato."
   ]
  },
  {
   "cell_type": "code",
   "execution_count": 18,
   "metadata": {},
   "outputs": [],
   "source": [
    "# Se guarda el dataset limpio\n",
    "df.to_csv(path + '/data/chess_games_clean.csv', index=False)"
   ]
  },
  {
   "cell_type": "markdown",
   "metadata": {},
   "source": [
    "Con esto se conluye la parte del preprocesamiento. Un análisis más profundo se realizará en el notebook EDA para comprender de mejor manera los patrones y tendencias del notebook."
   ]
  }
 ],
 "metadata": {
  "kernelspec": {
   "display_name": "Python 3",
   "language": "python",
   "name": "python3"
  },
  "language_info": {
   "codemirror_mode": {
    "name": "ipython",
    "version": 3
   },
   "file_extension": ".py",
   "mimetype": "text/x-python",
   "name": "python",
   "nbconvert_exporter": "python",
   "pygments_lexer": "ipython3",
   "version": "3.11.5"
  }
 },
 "nbformat": 4,
 "nbformat_minor": 2
}
